{
 "metadata": {
  "language_info": {
   "codemirror_mode": {
    "name": "ipython",
    "version": 3
   },
   "file_extension": ".py",
   "mimetype": "text/x-python",
   "name": "python",
   "nbconvert_exporter": "python",
   "pygments_lexer": "ipython3",
   "version": "3.7.7-final"
  },
  "orig_nbformat": 2,
  "kernelspec": {
   "name": "python3",
   "display_name": "Python 3",
   "language": "python"
  }
 },
 "nbformat": 4,
 "nbformat_minor": 2,
 "cells": [
  {
   "cell_type": "code",
   "execution_count": 34,
   "metadata": {},
   "outputs": [
    {
     "output_type": "stream",
     "name": "stdout",
     "text": [
      "9\n"
     ]
    }
   ],
   "source": [
    "username = 'tlgudlove'\n",
    "\n",
    "print(len(username))"
   ]
  },
  {
   "cell_type": "code",
   "execution_count": 35,
   "metadata": {},
   "outputs": [],
   "source": [
    "username_list = []"
   ]
  },
  {
   "cell_type": "code",
   "execution_count": null,
   "metadata": {},
   "outputs": [],
   "source": []
  },
  {
   "cell_type": "code",
   "execution_count": 36,
   "metadata": {},
   "outputs": [
    {
     "output_type": "stream",
     "name": "stdout",
     "text": [
      "['t', 'l', 'g', 'u', 'd', 'l', 'o', 'v', 'e']\n"
     ]
    }
   ],
   "source": [
    "for i in range(len(username)) : \n",
    "    username_list.append(username[i])\n",
    "\n",
    "print(username_list)"
   ]
  },
  {
   "cell_type": "code",
   "execution_count": 37,
   "metadata": {},
   "outputs": [
    {
     "output_type": "stream",
     "name": "stdout",
     "text": [
      "Help on package selenium:\n\nNAME\n    selenium\n\nDESCRIPTION\n    # Licensed to the Software Freedom Conservancy (SFC) under one\n    # or more contributor license agreements.  See the NOTICE file\n    # distributed with this work for additional information\n    # regarding copyright ownership.  The SFC licenses this file\n    # to you under the Apache License, Version 2.0 (the\n    # \"License\"); you may not use this file except in compliance\n    # with the License.  You may obtain a copy of the License at\n    #\n    #   http://www.apache.org/licenses/LICENSE-2.0\n    #\n    # Unless required by applicable law or agreed to in writing,\n    # software distributed under the License is distributed on an\n    # \"AS IS\" BASIS, WITHOUT WARRANTIES OR CONDITIONS OF ANY\n    # KIND, either express or implied.  See the License for the\n    # specific language governing permissions and limitations\n    # under the License.\n\nPACKAGE CONTENTS\n    common (package)\n    webdriver (package)\n\nVERSION\n    3.141.0\n\nFILE\n    /Users/jw/opt/anaconda3/envs/py/lib/python3.7/site-packages/selenium/__init__.py\n\n\n"
     ]
    }
   ],
   "source": [
    "import selenium\n",
    "help(selenium)"
   ]
  },
  {
   "cell_type": "code",
   "execution_count": 3,
   "metadata": {},
   "outputs": [
    {
     "output_type": "stream",
     "name": "stdout",
     "text": [
      "0.11233375451380362\n안\n0.10398572069795156\n녕\n0.09120089213223168\n하\n0.019337720476611538\n세\n0.09269233646870426\n요\n"
     ]
    }
   ],
   "source": [
    "import random\n",
    "\n",
    "content_comment = '안녕하세요'\n",
    "\n",
    "for i in range(len(content_comment)) :\n",
    "    random_pw = random.uniform(0,0.12)\n",
    "    print(random_pw)\n",
    "    print(content_comment[i])\n"
   ]
  },
  {
   "cell_type": "code",
   "execution_count": null,
   "metadata": {},
   "outputs": [],
   "source": []
  },
  {
   "cell_type": "code",
   "execution_count": 60,
   "metadata": {},
   "outputs": [
    {
     "output_type": "stream",
     "name": "stdout",
     "text": [
      "/Users/jw/python/innaver/csv/test1.csv write complete..\n/Users/jw/python/innaver/csv/test2.csv write complete..\n/Users/jw/python/innaver/csv/test3.csv write complete..\n/Users/jw/python/innaver/csv/test4.csv write complete..\n>>> All file merge\n"
     ]
    }
   ],
   "source": [
    "import glob, sys\n",
    "import csv\n",
    "\n",
    "path = '/Users/jw/python/innaver/csv/'\n",
    "merge_path = '/Users/jw/python/innaver/test4.csv'\n",
    "\n",
    "\n",
    "file_list = sorted(glob.glob(path + \"*\"))\n",
    "\n",
    "with open(merge_path, 'w') as f:\n",
    "    for file in file_list:\n",
    "\n",
    "        with open(file, 'r') as f2:\n",
    "            while True:\n",
    "                line = f2.readlines()\n",
    "\n",
    "                if not line:\n",
    "                    break\n",
    "                f.write(str(line[0]))\n",
    "                f.write(str(line[-1])+'\\n')\n",
    "                \n",
    "\n",
    "        file_name=file.split('\\\\')[-1]\n",
    "        print(file.split('\\\\')[-1] + ' write complete..')\n",
    "\n",
    "print('>>> All file merge')"
   ]
  },
  {
   "cell_type": "code",
   "execution_count": 1,
   "metadata": {},
   "outputs": [],
   "source": [
    "import json\n",
    "import os\n",
    "import re\n",
    "import urllib.request\n",
    "\n",
    "from bs4 import BeautifulSoup\n",
    "from requests import get\n",
    "from selenium import webdriver\n",
    "from urllib.error import HTTPError\n",
    "from urllib.parse import urlencode"
   ]
  },
  {
   "cell_type": "code",
   "execution_count": 13,
   "metadata": {},
   "outputs": [
    {
     "output_type": "stream",
     "name": "stdout",
     "text": [
      "http://127.0.0.1/?code=LzYB0c4acVkQItfANy&state=REWERWERTATE\n"
     ]
    },
    {
     "output_type": "error",
     "ename": "KeyError",
     "evalue": "'access_token'",
     "traceback": [
      "\u001b[0;31m---------------------------------------------------------------------------\u001b[0m",
      "\u001b[0;31mKeyError\u001b[0m                                  Traceback (most recent call last)",
      "\u001b[0;32m<ipython-input-13-9f83996e1dce>\u001b[0m in \u001b[0;36m<module>\u001b[0;34m\u001b[0m\n\u001b[1;32m     42\u001b[0m     \u001b[0mresponse_body\u001b[0m \u001b[0;34m=\u001b[0m \u001b[0mresponse\u001b[0m\u001b[0;34m.\u001b[0m\u001b[0mread\u001b[0m\u001b[0;34m(\u001b[0m\u001b[0;34m)\u001b[0m\u001b[0;34m\u001b[0m\u001b[0;34m\u001b[0m\u001b[0m\n\u001b[1;32m     43\u001b[0m     \u001b[0mjs\u001b[0m \u001b[0;34m=\u001b[0m \u001b[0mjson\u001b[0m\u001b[0;34m.\u001b[0m\u001b[0mloads\u001b[0m\u001b[0;34m(\u001b[0m\u001b[0mresponse_body\u001b[0m\u001b[0;34m.\u001b[0m\u001b[0mdecode\u001b[0m\u001b[0;34m(\u001b[0m\u001b[0;34m'utf 8'\u001b[0m\u001b[0;34m)\u001b[0m\u001b[0;34m)\u001b[0m\u001b[0;34m\u001b[0m\u001b[0;34m\u001b[0m\u001b[0m\n\u001b[0;32m---> 44\u001b[0;31m     \u001b[0mtoken\u001b[0m \u001b[0;34m=\u001b[0m \u001b[0mjs\u001b[0m\u001b[0;34m[\u001b[0m\u001b[0;34m'access_token'\u001b[0m\u001b[0;34m]\u001b[0m\u001b[0;34m\u001b[0m\u001b[0;34m\u001b[0m\u001b[0m\n\u001b[0m\u001b[1;32m     45\u001b[0m \u001b[0;32melse\u001b[0m\u001b[0;34m:\u001b[0m\u001b[0;34m\u001b[0m\u001b[0;34m\u001b[0m\u001b[0m\n\u001b[1;32m     46\u001b[0m     \u001b[0mprint\u001b[0m\u001b[0;34m(\u001b[0m\u001b[0;34m\"Error Code:\"\u001b[0m\u001b[0;34m,\u001b[0m \u001b[0mrescode\u001b[0m\u001b[0;34m)\u001b[0m\u001b[0;34m\u001b[0m\u001b[0;34m\u001b[0m\u001b[0m\n",
      "\u001b[0;31mKeyError\u001b[0m: 'access_token'"
     ]
    }
   ],
   "source": [
    "# chromedriver_path = os.environ.get('innaver/chromedriver')\n",
    "naver_id = 'tlgudlove111'\n",
    "naver_pw = '92ghlrhks'\n",
    "naver_cid = 'r9E0GlkQdtn8_ExBXEtU'\n",
    "naver_csec = 'E38uoS3ZNe'\n",
    "naver_redirect = 'http://127.0.0.1'\n",
    "\n",
    "driver = webdriver.Chrome('/Users/jw/python/innaver/chromedriver')  # driver = webdriver.PhantomJS()\n",
    "driver.implicitly_wait(3)\n",
    "driver.get('https://nid.naver.com/nidlogin.login')\n",
    "driver.find_element_by_name('id').send_keys(naver_id)\n",
    "driver.find_element_by_name('pw').send_keys(naver_pw)\n",
    "driver.find_element_by_xpath('//*[@id=\"frmNIDLogin\"]/fieldset/input').click()\n",
    "\n",
    "state = \"REWERWERTATE\"\n",
    "req_url = 'https://nid.naver.com/oauth2.0/authorize?response_type=code&client_id=%s&redirect_uri=%s&state=%s' % (naver_cid, naver_redirect, state)\n",
    "\n",
    "driver.get(req_url)\n",
    "##########################\n",
    "# XXX: 최초 1회만 반드시 필요하고 이후엔 불필요함\n",
    "# driver.find_element_by_xpath('//*[@id=\"confirm_terms\"]/a[2]').click()\n",
    "##########################\n",
    "redirect_url = 'http://127.0.0.1/?code=LzYB0c4acVkQItfANy&state=REWERWERTATE'\n",
    "temp = re.split('code=', redirect_url)\n",
    "code = re.split('&state=', temp[1])[0]\n",
    "driver.quit()\n",
    "\n",
    "print(redirect_url)\n",
    "\n",
    "\n",
    "\n",
    "url = 'https://nid.naver.com/oauth2.0/token?'\n",
    "data = 'grant_type=authorization_code' + '&client_id=' + naver_cid + '&client_secret=' + naver_csec + '&redirect_uri=' + naver_redirect + '&code=' + code + '&state=' + state\n",
    "\n",
    "request = urllib.request.Request(url, data=data.encode(\"utf-8\"))\n",
    "request.add_header('X-Naver-Client-Id', naver_cid)\n",
    "request.add_header('X-Naver-Client-Secret', naver_redirect)\n",
    "response = urllib.request.urlopen(request)\n",
    "rescode = response.getcode()\n",
    "token = ''\n",
    "if rescode == 200:\n",
    "    response_body = response.read()\n",
    "    js = json.loads(response_body.decode('utf 8'))\n",
    "    token = js['access_token']\n",
    "else:\n",
    "    print(\"Error Code:\", rescode)\n",
    "    \n",
    "\n",
    "print(token)\n",
    " \n",
    "\n"
   ]
  },
  {
   "cell_type": "code",
   "execution_count": null,
   "metadata": {},
   "outputs": [],
   "source": [
    "# http://127.0.0.1/?code=LzYB0c4acVkQItfANy&state=REWERWERTATE"
   ]
  },
  {
   "cell_type": "code",
   "execution_count": null,
   "metadata": {},
   "outputs": [],
   "source": []
  },
  {
   "cell_type": "code",
   "execution_count": 6,
   "metadata": {},
   "outputs": [
    {
     "output_type": "stream",
     "name": "stdout",
     "text": [
      "comment_board_numbers :  50217\n<class 'str'>\n<class 'int'>\n"
     ]
    }
   ],
   "source": [
    "result = 'https://m.cafe.naver.com/MemoCommentView.nhn?search.clubid=29118241&search.menuid=278&search.articleid=50217'\n",
    "comment_board_numbers = result.split('articleid=')[1]\n",
    "print('comment_board_numbers : ', comment_board_numbers)\n",
    "\n",
    "comment = int(comment_board_numbers)\n",
    "print(type(comment_board_numbers))\n",
    "print(type(comment))"
   ]
  },
  {
   "cell_type": "code",
   "execution_count": 8,
   "metadata": {},
   "outputs": [
    {
     "output_type": "error",
     "ename": "NameError",
     "evalue": "name 'driver' is not defined",
     "traceback": [
      "\u001b[0;31m---------------------------------------------------------------------------\u001b[0m",
      "\u001b[0;31mNameError\u001b[0m                                 Traceback (most recent call last)",
      "\u001b[0;32m<ipython-input-8-8c2eac3608b0>\u001b[0m in \u001b[0;36m<module>\u001b[0;34m\u001b[0m\n\u001b[1;32m      1\u001b[0m \u001b[0;32mfor\u001b[0m \u001b[0mi\u001b[0m \u001b[0;32min\u001b[0m \u001b[0mrange\u001b[0m\u001b[0;34m(\u001b[0m\u001b[0mcomment\u001b[0m \u001b[0;34m-\u001b[0m \u001b[0;36m5\u001b[0m\u001b[0;34m,\u001b[0m \u001b[0mcomment\u001b[0m\u001b[0;34m)\u001b[0m \u001b[0;34m:\u001b[0m\u001b[0;34m\u001b[0m\u001b[0;34m\u001b[0m\u001b[0m\n\u001b[1;32m      2\u001b[0m     \u001b[0mcomment_url\u001b[0m \u001b[0;34m=\u001b[0m \u001b[0;34m'https://m.cafe.naver.com/MemoCommentView.nhn?search.clubid=29118241&search.menuid=278&search.articleid='\u001b[0m \u001b[0;34m+\u001b[0m \u001b[0mstr\u001b[0m\u001b[0;34m(\u001b[0m\u001b[0mi\u001b[0m\u001b[0;34m)\u001b[0m\u001b[0;34m\u001b[0m\u001b[0;34m\u001b[0m\u001b[0m\n\u001b[0;32m----> 3\u001b[0;31m     \u001b[0mdriver\u001b[0m\u001b[0;34m.\u001b[0m\u001b[0mget\u001b[0m\u001b[0;34m(\u001b[0m\u001b[0mcomment_url\u001b[0m\u001b[0;34m)\u001b[0m\u001b[0;34m\u001b[0m\u001b[0;34m\u001b[0m\u001b[0m\n\u001b[0m\u001b[1;32m      4\u001b[0m     \u001b[0mdriver\u001b[0m\u001b[0;34m.\u001b[0m\u001b[0mimplicitly_wait\u001b[0m\u001b[0;34m(\u001b[0m\u001b[0;36m10\u001b[0m\u001b[0;34m)\u001b[0m\u001b[0;34m\u001b[0m\u001b[0;34m\u001b[0m\u001b[0m\n\u001b[1;32m      5\u001b[0m     \u001b[0mtime\u001b[0m\u001b[0;34m.\u001b[0m\u001b[0msleep\u001b[0m\u001b[0;34m(\u001b[0m\u001b[0;36m1\u001b[0m\u001b[0;34m)\u001b[0m\u001b[0;34m\u001b[0m\u001b[0;34m\u001b[0m\u001b[0m\n",
      "\u001b[0;31mNameError\u001b[0m: name 'driver' is not defined"
     ]
    }
   ],
   "source": [
    "\n",
    "for i in range(comment - 5, comment) : \n",
    "    comment_url = 'https://m.cafe.naver.com/MemoCommentView.nhn?search.clubid=29118241&search.menuid=278&search.articleid=' + str(i)    \n",
    "    driver.get(comment_url)\n",
    "    driver.implicitly_wait(10)\n",
    "    time.sleep(1)\n",
    "\n",
    "def login(id, pw) : \n",
    "    url = \"https://nid.naver.com/nidlogin.login\" # naver login \n",
    "    driver.get(url)\n",
    "    driver.implicitly_wait(10)\n",
    "\n",
    "    # login 한글자씩\n",
    "    for i in range(len(id)) :\n",
    "        random_id = random.uniform(0,0.12)\n",
    "        # driver.find_element_by_xpath('//*[@id=\"id\"]').send_keys(id[i])\n",
    "        driver.find_element_by_name('id').send_keys(userid[i])\n",
    "        print(random_id)\n",
    "        time.sleep(random_id)\n",
    "\n",
    "    for i in range(len(pw)) :\n",
    "        random_pw = random.uniform(0,0.12)\n",
    "        # driver.find_element_by_xpath('//*[@id=\"pw\"]').send_keys(pw[i])\n",
    "        driver.find_element_by_name('pw').send_keys(userpw[i])\n",
    "        print(random_pw)\n",
    "        time.sleep(random_pw)\n",
    "\n",
    "    driver.find_element_by_xpath('//*[@id=\"log.login\"]').click()\n",
    "    # driver.find_element_by_xpath('//*[@id=\"frmNIDLogin\"]/fieldset/input').click()\n",
    "\n",
    "    driver.implicitly_wait(10)\n",
    "    time.sleep(1)\n",
    "    result = driver.current_url # 현재 주소 가져오기\n",
    "    \n",
    "    return result\n",
    "\n",
    "#login(userid, userpw)\n"
   ]
  },
  {
   "cell_type": "code",
   "execution_count": 104,
   "metadata": {},
   "outputs": [
    {
     "output_type": "stream",
     "name": "stdout",
     "text": [
      "5\n2\n"
     ]
    },
    {
     "output_type": "execute_result",
     "data": {
      "text/plain": [
       "'안녕하세요'"
      ]
     },
     "metadata": {},
     "execution_count": 104
    }
   ],
   "source": [
    "from selenium import webdriver\n",
    "from selenium.webdriver.common.keys import Keys\n",
    "import time, random, os, urllib3, json, requests, ast\n",
    "from selenium.webdriver.chrome.options import Options\n",
    "import pyperclip\n",
    "from selenium.webdriver.common.action_chains import ActionChains\n",
    "\n",
    "def content_comment() :\n",
    "    comment_list = ['안녕하세요 반가워요 소중한 추억 간직하시길 기원하겠습니다.',\n",
    "                    '반갑습니다 캠핑칸과 함께 소중한 추억 간직하시길~',\n",
    "                    '안녕하세요', \n",
    "                    '반갑습니다',\n",
    "                    '환영합니다 즐거운시간되세요'\n",
    "                    ]\n",
    "\n",
    "    random_num = random.randint(0,len(comment_list)-1)\n",
    "    print(len(comment_list))\n",
    "    print(random_num)\n",
    "    return comment_list[random_num]\n",
    "\n",
    "content_comment()"
   ]
  },
  {
   "cell_type": "code",
   "execution_count": 107,
   "metadata": {},
   "outputs": [],
   "source": [
    "def find_index(data, target):\n",
    "    res = []\n",
    "    lis = data\n",
    "    while True:\n",
    "        try:\n",
    "            res.append(lis.index(target) + (res[-1]+1 if len(res)!=0 else 0)) #+1의 이유 : 0부터 시작이니까\n",
    "            lis = data[res[-1]+1:]\n",
    "        except:\n",
    "            break     \n",
    "    return res"
   ]
  },
  {
   "cell_type": "code",
   "execution_count": 123,
   "metadata": {},
   "outputs": [
    {
     "output_type": "stream",
     "name": "stdout",
     "text": [
      "Comment_board_numbers :  50251\n"
     ]
    },
    {
     "output_type": "error",
     "ename": "IndexError",
     "evalue": "list index out of range",
     "traceback": [
      "\u001b[0;31m---------------------------------------------------------------------------\u001b[0m",
      "\u001b[0;31mIndexError\u001b[0m                                Traceback (most recent call last)",
      "\u001b[0;32m<ipython-input-123-21ae5d3b4dab>\u001b[0m in \u001b[0;36m<module>\u001b[0;34m\u001b[0m\n\u001b[1;32m      4\u001b[0m \u001b[0;34m\u001b[0m\u001b[0m\n\u001b[1;32m      5\u001b[0m \u001b[0mfind_index_\u001b[0m \u001b[0;34m=\u001b[0m \u001b[0mfind_index\u001b[0m\u001b[0;34m(\u001b[0m\u001b[0mline\u001b[0m\u001b[0;34m,\u001b[0m \u001b[0mcomment_board_numbers\u001b[0m\u001b[0;34m)\u001b[0m\u001b[0;34m\u001b[0m\u001b[0;34m\u001b[0m\u001b[0m\n\u001b[0;32m----> 6\u001b[0;31m \u001b[0mline\u001b[0m\u001b[0;34m[\u001b[0m\u001b[0mfind_index_\u001b[0m\u001b[0;34m[\u001b[0m\u001b[0;36m0\u001b[0m\u001b[0;34m]\u001b[0m\u001b[0;34m]\u001b[0m\u001b[0;34m\u001b[0m\u001b[0;34m\u001b[0m\u001b[0m\n\u001b[0m",
      "\u001b[0;31mIndexError\u001b[0m: list index out of range"
     ]
    }
   ],
   "source": [
    "comment_board_numbers = '50251'\n",
    "\n",
    "print('Comment_board_numbers : ', comment_board_numbers)\n",
    "\n",
    "find_index_ = find_index(line, comment_board_numbers)\n",
    "line[find_index_[0]]\n"
   ]
  },
  {
   "cell_type": "code",
   "execution_count": 106,
   "metadata": {},
   "outputs": [
    {
     "output_type": "error",
     "ename": "SyntaxError",
     "evalue": "invalid syntax (<ipython-input-106-b95ef6e627b7>, line 6)",
     "traceback": [
      "\u001b[0;36m  File \u001b[0;32m\"<ipython-input-106-b95ef6e627b7>\"\u001b[0;36m, line \u001b[0;32m6\u001b[0m\n\u001b[0;31m    if comment_board_numbers == find()\u001b[0m\n\u001b[0m                                      ^\u001b[0m\n\u001b[0;31mSyntaxError\u001b[0m\u001b[0;31m:\u001b[0m invalid syntax\n"
     ]
    }
   ],
   "source": [
    "comment = '50254'\n",
    "len_co = len(comment)\n",
    "\n",
    "with open('list.txt', 'r') as fs :\n",
    "    line = fs.readlines() \n",
    "    line = list(map(lambda s: s.strip(), line))\n",
    "\n",
    "driver.find_element_by_xpath('//*[@id=\"memoList\"]/ul[1]/li[1]/div/div/div[4]/a').click() #댓글클릭\n",
    "time.sleep(1)\n",
    "result = driver.current_url #현재주소 가져오고\n",
    "comment_board_numbers = result.split('articleid=')[1]\n",
    "find_index_ = find_index(line, comment_board_numbers)\n",
    "# line[find_index_[0]]\n",
    "\n",
    "with open('innaver/list.txt','a') as fs : \n",
    "    if not comment_board_numbers == line[find_index_[0]] : \n",
    "        copy_input('//*[@id=\"content\"]', content_comment()) #내용입력\n",
    "        driver.find_element_by_xpath('//*[@id=\"commentSaveForm\"]/fieldset/div/div/div[5]/button[2]').click()\n",
    "        time.sleep(random.uniform(1,3))\n",
    "        fs.write(comment_board_numbers + '\\n')\n",
    "    else : \n",
    "        \n",
    "\n",
    "//*[@id=\"memoList\"]/ul[1]/li[2]/div/div/div[4]/a\n",
    "//*[@id=\"memoList\"]/ul[1]/li[3]/div/div/div[4]/a\n",
    "//*[@id=\"memoList\"]/ul[1]/li[4]/div/div/div[4]/a\n",
    "//*[@id=\"memoList\"]/ul[1]/li[5]/div/div/div[4]/a\n",
    "\n",
    "//*[@id=\"memoList\"]/div/a\n",
    "\n",
    "//*[@id=\"memoList\"]/ul[2]/li[1]/div/div/div[4]/a\n",
    "//*[@id=\"memoList\"]/ul[2]/li[2]/div/div/div[4]/a\n",
    "//*[@id=\"memoList\"]/ul[2]/li[3]/div/div/div[4]/a\n",
    "//*[@id=\"memoList\"]/ul[2]/li[4]/div/div/div[4]/a\n",
    "//*[@id=\"memoList\"]/ul[2]/li[5]/div/div/div[4]/a\n",
    "\n",
    "//*[@id=\"memoList\"]/div/a\n",
    "\n",
    "//*[@id=\"memoList\"]/ul[3]/li[2]/div/div/div[4]/a\n"
   ]
  },
  {
   "cell_type": "code",
   "execution_count": null,
   "metadata": {},
   "outputs": [],
   "source": [
    "driver.find_element_by_xpath\n",
    "//*[@id=\"memoList\"]/ul[1]/li[1]/div/div/div[4]/a\n",
    "//*[@id=\"memoList\"]/ul[1]/li[2]/div/div/div[4]/a\n",
    "//*[@id=\"memoList\"]/ul[1]/li[3]/div/div/div[4]/a\n",
    "//*[@id=\"memoList\"]/ul[1]/li[4]/div/div/div[4]/a\n",
    "//*[@id=\"memoList\"]/ul[1]/li[5]/div/div/div[4]/a\n",
    "\n",
    "//*[@id=\"memoList\"]/div/a\n",
    "\n",
    "//*[@id=\"memoList\"]/ul[2]/li[1]/div/div/div[4]/a\n",
    "//*[@id=\"memoList\"]/ul[2]/li[2]/div/div/div[4]/a\n",
    "//*[@id=\"memoList\"]/ul[2]/li[3]/div/div/div[4]/a\n",
    "//*[@id=\"memoList\"]/ul[2]/li[4]/div/div/div[4]/a\n",
    "//*[@id=\"memoList\"]/ul[2]/li[5]/div/div/div[4]/a\n",
    "\n",
    "//*[@id=\"memoList\"]/div/a\n",
    "\n",
    "//*[@id=\"memoList\"]/ul[3]/li[2]/div/div/div[4]/a\n"
   ]
  },
  {
   "cell_type": "code",
   "execution_count": null,
   "metadata": {},
   "outputs": [],
   "source": [
    "//*[@id=\"memoList\"]/ul/li[5]/div/div/div[1]/span[2]/a[1]"
   ]
  }
 ]
}