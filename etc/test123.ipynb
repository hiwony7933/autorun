{
 "metadata": {
  "language_info": {
   "codemirror_mode": {
    "name": "ipython",
    "version": 3
   },
   "file_extension": ".py",
   "mimetype": "text/x-python",
   "name": "python",
   "nbconvert_exporter": "python",
   "pygments_lexer": "ipython3",
   "version": "3.7.7-final"
  },
  "orig_nbformat": 2,
  "kernelspec": {
   "name": "python3",
   "display_name": "Python 3",
   "language": "python"
  }
 },
 "nbformat": 4,
 "nbformat_minor": 2,
 "cells": [
  {
   "cell_type": "code",
   "execution_count": 1,
   "metadata": {},
   "outputs": [
    {
     "output_type": "stream",
     "name": "stdout",
     "text": [
      "error\nhttps://itemscout.io/category/?c=1,167,660\n"
     ]
    }
   ],
   "source": [
    "from selenium import webdriver\n",
    "import time\n",
    "from selenium.webdriver.common.keys import Keys\n",
    "\n",
    "driver = webdriver.Chrome('./chromedriver')\n",
    "\n",
    "def site(url):\n",
    "    driver.get(url)\n",
    "\n",
    "    #cookies = pickle.load(open(\"cookies.pkl\", \"rb\"))\n",
    "    #for cookie in cookies:\n",
    "        #driver.add_cookie(cookie)\n",
    "\n",
    "    driver.implicitly_wait(10)\n",
    "    time.sleep(3)\n",
    "\n",
    "    driver.execute_script(\"window.scrollTo(0,100)\")\n",
    "\n",
    "\n",
    "    driver.find_element_by_xpath('/html/body/div[1]/div/div/div/main/div/div/div[1]/div/div[3]/div[7]/div[1]/button').click()\n",
    "    time.sleep(1) #브랜드 제거 /\n",
    "\n",
    "\n",
    "    driver.find_element_by_xpath('//*[@id=\"app\"]/div/main/div/div/div[1]/div/div[3]/div[7]/div[1]/div[2]/button').click()\n",
    "    time.sleep(1) #필터링 클릭\n",
    "\n",
    "    total_search_cnt_from = driver.find_element_by_xpath(\n",
    "        '//*[@id=\"app\"]/div/main/div/div/div[1]/div/div[3]/div[7]/div[1]/div[2]/div/div/div/div[2]/div[4]/div[2]/div/input[1]')\n",
    "    total_search_cnt_from.send_keys(Keys.BACK_SPACE * len(total_search_cnt_from.get_attribute('value')))\n",
    "    total_search_cnt_from.send_keys(5000)\n",
    "    time.sleep(1)  # 총검색수 5000입력\n",
    "\n",
    "\n",
    "\n",
    "    total_search_cnt_to = driver.find_element_by_xpath(\n",
    "        '//*[@id=\"app\"]/div/main/div/div/div[1]/div/div[3]/div[7]/div[1]/div[2]/div/div/div/div[2]/div[4]/div[2]/div/input[2]')\n",
    "    total_search_cnt_to.send_keys(Keys.BACK_SPACE * len(total_search_cnt_to.get_attribute('value')))\n",
    "    total_search_cnt_to.send_keys(99999999)\n",
    "    time.sleep(1)  # 총검색수 99999999\n",
    "\n",
    "\n",
    "\n",
    "    total_search_cnt_from = driver.find_element_by_xpath(\n",
    "        '//*[@id=\"app\"]/div/main/div/div/div[1]/div/div[3]/div[7]/div[1]/div[2]/div/div/div/div[2]/div[4]/div[3]/div/input[1]')\n",
    "    total_search_cnt_from.send_keys(Keys.BACK_SPACE * len(total_search_cnt_from.get_attribute('value')))\n",
    "    total_search_cnt_from.send_keys(0)\n",
    "    time.sleep(1)  #상품수 0입력\n",
    "\n",
    "\n",
    "\n",
    "    total_search_cnt_from = driver.find_element_by_xpath(\n",
    "        '//*[@id=\"app\"]/div/main/div/div/div[1]/div/div[3]/div[7]/div[1]/div[2]/div/div/div/div[2]/div[4]/div[3]/div/input[2]')\n",
    "    total_search_cnt_from.send_keys(Keys.BACK_SPACE * len(total_search_cnt_from.get_attribute('value')))\n",
    "    total_search_cnt_from.send_keys(2000)\n",
    "    time.sleep(1)  # 총상품수 2000입력\n",
    "\n",
    "\n",
    "\n",
    "    total_search_cnt_from = driver.find_element_by_xpath(\n",
    "        '//*[@id=\"app\"]/div/main/div/div/div[1]/div/div[3]/div[7]/div[1]/div[2]/div/div/div/div[2]/div[4]/div[4]/div/input[1]')\n",
    "    total_search_cnt_from.send_keys(Keys.BACK_SPACE * len(total_search_cnt_from.get_attribute('value')))\n",
    "    total_search_cnt_from.send_keys(0)\n",
    "    time.sleep(1)  #경쟁강도 0입력\n",
    "\n",
    "\n",
    "\n",
    "    total_search_cnt_from = driver.find_element_by_xpath(\n",
    "        '//*[@id=\"app\"]/div/main/div/div/div[1]/div/div[3]/div[7]/div[1]/div[2]/div/div/div/div[2]/div[4]/div[4]/div/input[2]')\n",
    "    total_search_cnt_from.send_keys(Keys.BACK_SPACE * len(total_search_cnt_from.get_attribute('value')))\n",
    "    total_search_cnt_from.send_keys(1)\n",
    "    time.sleep(1)  #경쟁강도 1입력\n",
    "\n",
    "\n",
    "\n",
    "    driver.find_element_by_class_name('finish-btn').click()\n",
    "    time.sleep(1)  # 선택완료\n",
    "\n",
    "\n",
    "\n",
    "    #driver.find_element_by_xpath('/html/body/div[1]/div/div/div/main/div/div/div[1]/div[2]/div/div/div/div/div/div[3]/div[4]/div[1]/div[2]/div/div/div/div[2]/div[5]').click()\n",
    "    #선택완료 (xpath)\n",
    "    #time.sleep(1)\n",
    "\n",
    "    \n",
    "    driver.find_element_by_css_selector('#export_1610351270582').click()\n",
    "    # 엑셀다운 (xpath)\n",
    "    time.sleep(1)\n",
    "\n",
    "    #driver.find_element_by_css_selector(\"#container > div.main-container > div.table-container > div.update-status-container > div > div:nth-child(3)\").click()\n",
    "\n",
    "def site_pass_when_error(url):\n",
    "    try:\n",
    "        site(url)\n",
    "    except:\n",
    "        print('error')\n",
    "        print(url)\n",
    "\n",
    "site_pass_when_error('https://itemscout.io/category/?c=1,167,660')\n",
    "# site_pass_when_error('https://itemscout.io/category/?c=1,167,683')\n",
    "# site_pass_when_error('https://itemscout.io/category/?c=1,167,684')"
   ]
  },
  {
   "cell_type": "code",
   "execution_count": 5,
   "metadata": {},
   "outputs": [
    {
     "output_type": "error",
     "ename": "NoSuchElementException",
     "evalue": "Message: no such element: Unable to locate element: {\"method\":\"css selector\",\"selector\":\"#export_1610351270582\"}\n  (Session info: chrome=87.0.4280.141)\n",
     "traceback": [
      "\u001b[0;31m---------------------------------------------------------------------------\u001b[0m",
      "\u001b[0;31mNoSuchElementException\u001b[0m                    Traceback (most recent call last)",
      "\u001b[0;32m<ipython-input-5-3248b0e1c722>\u001b[0m in \u001b[0;36m<module>\u001b[0;34m\u001b[0m\n\u001b[0;32m----> 1\u001b[0;31m \u001b[0mdriver\u001b[0m\u001b[0;34m.\u001b[0m\u001b[0mfind_element_by_css_selector\u001b[0m\u001b[0;34m(\u001b[0m\u001b[0;34m'#export_1610351270582'\u001b[0m\u001b[0;34m)\u001b[0m\u001b[0;34m.\u001b[0m\u001b[0mclick\u001b[0m\u001b[0;34m(\u001b[0m\u001b[0;34m)\u001b[0m\u001b[0;34m\u001b[0m\u001b[0;34m\u001b[0m\u001b[0m\n\u001b[0m",
      "\u001b[0;32m~/opt/anaconda3/envs/py/lib/python3.7/site-packages/selenium/webdriver/remote/webdriver.py\u001b[0m in \u001b[0;36mfind_element_by_css_selector\u001b[0;34m(self, css_selector)\u001b[0m\n\u001b[1;32m    596\u001b[0m             \u001b[0melement\u001b[0m \u001b[0;34m=\u001b[0m \u001b[0mdriver\u001b[0m\u001b[0;34m.\u001b[0m\u001b[0mfind_element_by_css_selector\u001b[0m\u001b[0;34m(\u001b[0m\u001b[0;34m'#foo'\u001b[0m\u001b[0;34m)\u001b[0m\u001b[0;34m\u001b[0m\u001b[0;34m\u001b[0m\u001b[0m\n\u001b[1;32m    597\u001b[0m         \"\"\"\n\u001b[0;32m--> 598\u001b[0;31m         \u001b[0;32mreturn\u001b[0m \u001b[0mself\u001b[0m\u001b[0;34m.\u001b[0m\u001b[0mfind_element\u001b[0m\u001b[0;34m(\u001b[0m\u001b[0mby\u001b[0m\u001b[0;34m=\u001b[0m\u001b[0mBy\u001b[0m\u001b[0;34m.\u001b[0m\u001b[0mCSS_SELECTOR\u001b[0m\u001b[0;34m,\u001b[0m \u001b[0mvalue\u001b[0m\u001b[0;34m=\u001b[0m\u001b[0mcss_selector\u001b[0m\u001b[0;34m)\u001b[0m\u001b[0;34m\u001b[0m\u001b[0;34m\u001b[0m\u001b[0m\n\u001b[0m\u001b[1;32m    599\u001b[0m \u001b[0;34m\u001b[0m\u001b[0m\n\u001b[1;32m    600\u001b[0m     \u001b[0;32mdef\u001b[0m \u001b[0mfind_elements_by_css_selector\u001b[0m\u001b[0;34m(\u001b[0m\u001b[0mself\u001b[0m\u001b[0;34m,\u001b[0m \u001b[0mcss_selector\u001b[0m\u001b[0;34m)\u001b[0m\u001b[0;34m:\u001b[0m\u001b[0;34m\u001b[0m\u001b[0;34m\u001b[0m\u001b[0m\n",
      "\u001b[0;32m~/opt/anaconda3/envs/py/lib/python3.7/site-packages/selenium/webdriver/remote/webdriver.py\u001b[0m in \u001b[0;36mfind_element\u001b[0;34m(self, by, value)\u001b[0m\n\u001b[1;32m    976\u001b[0m         return self.execute(Command.FIND_ELEMENT, {\n\u001b[1;32m    977\u001b[0m             \u001b[0;34m'using'\u001b[0m\u001b[0;34m:\u001b[0m \u001b[0mby\u001b[0m\u001b[0;34m,\u001b[0m\u001b[0;34m\u001b[0m\u001b[0;34m\u001b[0m\u001b[0m\n\u001b[0;32m--> 978\u001b[0;31m             'value': value})['value']\n\u001b[0m\u001b[1;32m    979\u001b[0m \u001b[0;34m\u001b[0m\u001b[0m\n\u001b[1;32m    980\u001b[0m     \u001b[0;32mdef\u001b[0m \u001b[0mfind_elements\u001b[0m\u001b[0;34m(\u001b[0m\u001b[0mself\u001b[0m\u001b[0;34m,\u001b[0m \u001b[0mby\u001b[0m\u001b[0;34m=\u001b[0m\u001b[0mBy\u001b[0m\u001b[0;34m.\u001b[0m\u001b[0mID\u001b[0m\u001b[0;34m,\u001b[0m \u001b[0mvalue\u001b[0m\u001b[0;34m=\u001b[0m\u001b[0;32mNone\u001b[0m\u001b[0;34m)\u001b[0m\u001b[0;34m:\u001b[0m\u001b[0;34m\u001b[0m\u001b[0;34m\u001b[0m\u001b[0m\n",
      "\u001b[0;32m~/opt/anaconda3/envs/py/lib/python3.7/site-packages/selenium/webdriver/remote/webdriver.py\u001b[0m in \u001b[0;36mexecute\u001b[0;34m(self, driver_command, params)\u001b[0m\n\u001b[1;32m    319\u001b[0m         \u001b[0mresponse\u001b[0m \u001b[0;34m=\u001b[0m \u001b[0mself\u001b[0m\u001b[0;34m.\u001b[0m\u001b[0mcommand_executor\u001b[0m\u001b[0;34m.\u001b[0m\u001b[0mexecute\u001b[0m\u001b[0;34m(\u001b[0m\u001b[0mdriver_command\u001b[0m\u001b[0;34m,\u001b[0m \u001b[0mparams\u001b[0m\u001b[0;34m)\u001b[0m\u001b[0;34m\u001b[0m\u001b[0;34m\u001b[0m\u001b[0m\n\u001b[1;32m    320\u001b[0m         \u001b[0;32mif\u001b[0m \u001b[0mresponse\u001b[0m\u001b[0;34m:\u001b[0m\u001b[0;34m\u001b[0m\u001b[0;34m\u001b[0m\u001b[0m\n\u001b[0;32m--> 321\u001b[0;31m             \u001b[0mself\u001b[0m\u001b[0;34m.\u001b[0m\u001b[0merror_handler\u001b[0m\u001b[0;34m.\u001b[0m\u001b[0mcheck_response\u001b[0m\u001b[0;34m(\u001b[0m\u001b[0mresponse\u001b[0m\u001b[0;34m)\u001b[0m\u001b[0;34m\u001b[0m\u001b[0;34m\u001b[0m\u001b[0m\n\u001b[0m\u001b[1;32m    322\u001b[0m             response['value'] = self._unwrap_value(\n\u001b[1;32m    323\u001b[0m                 response.get('value', None))\n",
      "\u001b[0;32m~/opt/anaconda3/envs/py/lib/python3.7/site-packages/selenium/webdriver/remote/errorhandler.py\u001b[0m in \u001b[0;36mcheck_response\u001b[0;34m(self, response)\u001b[0m\n\u001b[1;32m    240\u001b[0m                 \u001b[0malert_text\u001b[0m \u001b[0;34m=\u001b[0m \u001b[0mvalue\u001b[0m\u001b[0;34m[\u001b[0m\u001b[0;34m'alert'\u001b[0m\u001b[0;34m]\u001b[0m\u001b[0;34m.\u001b[0m\u001b[0mget\u001b[0m\u001b[0;34m(\u001b[0m\u001b[0;34m'text'\u001b[0m\u001b[0;34m)\u001b[0m\u001b[0;34m\u001b[0m\u001b[0;34m\u001b[0m\u001b[0m\n\u001b[1;32m    241\u001b[0m             \u001b[0;32mraise\u001b[0m \u001b[0mexception_class\u001b[0m\u001b[0;34m(\u001b[0m\u001b[0mmessage\u001b[0m\u001b[0;34m,\u001b[0m \u001b[0mscreen\u001b[0m\u001b[0;34m,\u001b[0m \u001b[0mstacktrace\u001b[0m\u001b[0;34m,\u001b[0m \u001b[0malert_text\u001b[0m\u001b[0;34m)\u001b[0m\u001b[0;34m\u001b[0m\u001b[0;34m\u001b[0m\u001b[0m\n\u001b[0;32m--> 242\u001b[0;31m         \u001b[0;32mraise\u001b[0m \u001b[0mexception_class\u001b[0m\u001b[0;34m(\u001b[0m\u001b[0mmessage\u001b[0m\u001b[0;34m,\u001b[0m \u001b[0mscreen\u001b[0m\u001b[0;34m,\u001b[0m \u001b[0mstacktrace\u001b[0m\u001b[0;34m)\u001b[0m\u001b[0;34m\u001b[0m\u001b[0;34m\u001b[0m\u001b[0m\n\u001b[0m\u001b[1;32m    243\u001b[0m \u001b[0;34m\u001b[0m\u001b[0m\n\u001b[1;32m    244\u001b[0m     \u001b[0;32mdef\u001b[0m \u001b[0m_value_or_default\u001b[0m\u001b[0;34m(\u001b[0m\u001b[0mself\u001b[0m\u001b[0;34m,\u001b[0m \u001b[0mobj\u001b[0m\u001b[0;34m,\u001b[0m \u001b[0mkey\u001b[0m\u001b[0;34m,\u001b[0m \u001b[0mdefault\u001b[0m\u001b[0;34m)\u001b[0m\u001b[0;34m:\u001b[0m\u001b[0;34m\u001b[0m\u001b[0;34m\u001b[0m\u001b[0m\n",
      "\u001b[0;31mNoSuchElementException\u001b[0m: Message: no such element: Unable to locate element: {\"method\":\"css selector\",\"selector\":\"#export_1610351270582\"}\n  (Session info: chrome=87.0.4280.141)\n"
     ]
    }
   ],
   "source": [
    "driver.find_element_by_css_selector('#export_1610351270582').click()\n",
    "\n",
    "#export_1610351475701"
   ]
  }
 ]
}