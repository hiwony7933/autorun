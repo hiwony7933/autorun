{
 "cells": [
  {
   "cell_type": "code",
   "execution_count": 1,
   "metadata": {},
   "outputs": [
    {
     "name": "stderr",
     "output_type": "stream",
     "text": [
      "/Users/jw/opt/anaconda3/lib/python3.7/site-packages/ipykernel_launcher.py:37: DeprecationWarning: use options instead of chrome_options\n"
     ]
    },
    {
     "name": "stdout",
     "output_type": "stream",
     "text": [
      "2021-05-14 22:19:28.682085 login_complete\n"
     ]
    }
   ],
   "source": [
    "from selenium import webdriver\n",
    "from selenium.webdriver.common.keys import Keys\n",
    "from selenium.webdriver.chrome.options import Options\n",
    "import time, random, json, datetime, csv\n",
    "\n",
    "# site url\n",
    "naver_login_url = \"https://nid.naver.com/nidlogin.login\"\n",
    "naver_url = 'https://www.naver.com/'\n",
    "\n",
    "# file path\n",
    "log_path = './log.csv'\n",
    "config_path = './config.json'\n",
    "comment_path = './comment.csv'\n",
    "\n",
    "## read config json file \n",
    "try : \n",
    "    with open(config_path, 'r') as f: \n",
    "        config = json.load(f) \n",
    "except : \n",
    "    print('Check config.json path : ./config.json')\n",
    "\n",
    "# User info\n",
    "userid = config['USERINFO'][\"USERNAME\"]\n",
    "userpw = config['USERINFO'][\"PASSWORD\"]\n",
    "# now time\n",
    "now_time = str(datetime.datetime.now())\n",
    "\n",
    "# driver options\n",
    "options = webdriver.ChromeOptions()\n",
    "# options.add_argument('headless') # 백그라운드실행\n",
    "# options.add_argument(\"user-agent=Mozilla/5.0 (Macintosh; Intel Mac OS X 10_12_6) AppleWebKit/537.36 (KHTML, like Gecko) Chrome/87.0.4280.141 Safari/537.36\")\n",
    "# options.add_argument(\"lang=ko_KR\") # 한국어!\n",
    "# options.add_argument('window-size=1920x1080')\n",
    "options.add_argument('no-sandbox')\n",
    "options.add_argument('disable-dev-shm-usage')\n",
    "options.add_argument(\"--disable-gpu\")\n",
    "driver = webdriver.Chrome('./chromedriver', chrome_options=options)\n",
    "\n",
    "\n",
    "def naver_log_in(id, pw) :\n",
    "    driver.get(naver_login_url)\n",
    "    driver.implicitly_wait(10)\n",
    "    time.sleep(random.uniform(1,1.5))\n",
    "    # java script \n",
    "    driver.execute_script(\"document.getElementsByName('id')[0].value = \\'\" + id + \"\\'\")\n",
    "    time.sleep(random.uniform(1,1.5))\n",
    "    driver.execute_script(\"document.getElementsByName('pw')[0].value=\\'\" + pw + \"\\'\")\n",
    "    time.sleep(random.uniform(1,1.5))\n",
    "    driver.find_element_by_css_selector('.btn_global').click()\n",
    "    time.sleep(3)\n",
    "\n",
    "    naver_home = driver.current_url # 현재 주소 가져오기\n",
    "    driver.implicitly_wait(10)\n",
    "    \n",
    "    if naver_home == naver_url :         \n",
    "        print(now_time,'login_complete')\n",
    "    else :\n",
    "        print(now_time,'login_failed')\n",
    "        driver.quit()   \n",
    "\n",
    "def content_comment(xpath):\n",
    "    elem = driver.find_element_by_xpath(xpath)\n",
    "    elem.click()\n",
    "    elem.send_keys(comment_code) \n",
    "    \n",
    "    elem.send_keys(Keys.RETURN)\n",
    "    driver.find_element_by_css_selector('.CommentWriteUpload__btn_register').click()\n",
    "    driver.implicitly_wait(10)\n",
    "    time.sleep(random.uniform(2,2.5))\n",
    "\n",
    "# Naver login \n",
    "try : \n",
    "    naver_log_in(userid, userpw) \n",
    "except : \n",
    "    print('Login fail : EXIT')"
   ]
  },
  {
   "cell_type": "code",
   "execution_count": 2,
   "metadata": {},
   "outputs": [],
   "source": [
    "\n",
    "################## 꼬리 잡기 주소 입력 \n",
    "comment_get_url = 'https://m.cafe.naver.com/ca-fe/web/cafes/26163062/articles/285645'\n",
    "\n",
    "comment_code = 'NUC 6만회원을 축하합니다'\n",
    "##################\n",
    "\n",
    "# 댓글 주소 이동\n",
    "driver.get(comment_get_url)\n",
    "\n",
    "page_now = driver.current_url\n",
    "page_split = page_now.split('?')[0]\n",
    "time.sleep(random.uniform(1.5,2))\n",
    "\n",
    "driver.get(page_split + '/comments')\n",
    "driver.implicitly_wait(10)"
   ]
  },
  {
   "cell_type": "code",
   "execution_count": 3,
   "metadata": {},
   "outputs": [
    {
     "name": "stdout",
     "output_type": "stream",
     "text": [
      "time : 2.680316925048828\n",
      "time : 2.288215160369873\n",
      "time : 2.4950289726257324\n",
      "time : 2.452913761138916\n",
      "time : 2.3219001293182373\n",
      "time : 2.375426769256592\n",
      "time : 2.3847179412841797\n",
      "time : 2.536825656890869\n",
      "time : 2.517468214035034\n",
      "time : 2.5056591033935547\n",
      "time : 2.3049118518829346\n",
      "time : 2.449457883834839\n",
      "time : 2.2837560176849365\n",
      "time : 2.275151014328003\n",
      "time : 2.42903995513916\n",
      "time : 2.307056188583374\n",
      "EXIT\n"
     ]
    }
   ],
   "source": [
    "# 댓글달기\n",
    "try : \n",
    "    for i in range(125) :\n",
    "        start = time.time()  # 시작 시간 저장\n",
    "        content_comment('//*[@id=\"cbox\"]')\n",
    "        print(\"time :\", time.time() - start)  # 현재시각 - 시작시간 = 실행 시간\n",
    "\n",
    "except : \n",
    "    print('EXIT')"
   ]
  }
 ],
 "metadata": {
  "kernelspec": {
   "display_name": "Python 3.7.4 64-bit ('anaconda3': conda)",
   "language": "python",
   "name": "python37464bitanaconda3condae788c5fa592f4db3927eca9f2fe371f6"
  },
  "language_info": {
   "codemirror_mode": {
    "name": "ipython",
    "version": 3
   },
   "file_extension": ".py",
   "mimetype": "text/x-python",
   "name": "python",
   "nbconvert_exporter": "python",
   "pygments_lexer": "ipython3",
   "version": "3.7.4"
  },
  "metadata": {
   "interpreter": {
    "hash": "aee8b7b246df8f9039afb4144a1f6fd8d2ca17a180786b69acc140d282b71a49"
   }
  },
  "orig_nbformat": 2
 },
 "nbformat": 4,
 "nbformat_minor": 2
}