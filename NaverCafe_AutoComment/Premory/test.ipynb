{
 "metadata": {
  "language_info": {
   "codemirror_mode": {
    "name": "ipython",
    "version": 3
   },
   "file_extension": ".py",
   "mimetype": "text/x-python",
   "name": "python",
   "nbconvert_exporter": "python",
   "pygments_lexer": "ipython3",
   "version": "3.7.7-final"
  },
  "orig_nbformat": 2,
  "kernelspec": {
   "name": "python3",
   "display_name": "Python 3",
   "language": "python"
  }
 },
 "nbformat": 4,
 "nbformat_minor": 2,
 "cells": [
  {
   "cell_type": "code",
   "execution_count": 2,
   "metadata": {},
   "outputs": [
    {
     "output_type": "stream",
     "name": "stdout",
     "text": [
      "[['반갑습니다^^'], ['NUC에 오신걸 환영합니다~!'], ['즐거운 시간 되시기 바랄게요~']]\n"
     ]
    }
   ],
   "source": [
    "import csv\n",
    "\n",
    "\n",
    "def content_comment(xpath):\n",
    "    elem = driver.find_element_by_xpath(xpath)\n",
    "    elem.click()\n",
    "\n",
    "    with open('./comment.csv','r',encoding='utf-8') as f:\n",
    "        imsi_comment = csv.reader(f)        \n",
    "        \n",
    "        for i in imsi_comment :\n",
    "            elem.send_keys(i)\n",
    "            time.sleep(random.uniform(1,2))\n",
    "            elem.send_keys(Keys.RETURN)\n",
    "            time.sleep(random.uniform(1,2))\n",
    "\n",
    "    driver.find_element_by_css_selector('.CommentWriteUpload__btn_register').click()\n",
    "    driver.implicitly_wait(10)\n",
    "    time.sleep(random.uniform(2,3))    \n",
    "    \n",
    "\n",
    "content_comment('//*[@id=\"cbox\"]')"
   ]
  },
  {
   "cell_type": "code",
   "execution_count": null,
   "metadata": {},
   "outputs": [],
   "source": []
  }
 ]
}