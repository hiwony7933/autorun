{
 "metadata": {
  "language_info": {
   "codemirror_mode": {
    "name": "ipython",
    "version": 3
   },
   "file_extension": ".py",
   "mimetype": "text/x-python",
   "name": "python",
   "nbconvert_exporter": "python",
   "pygments_lexer": "ipython3",
   "version": "3.7.7-final"
  },
  "orig_nbformat": 2,
  "kernelspec": {
   "name": "python3",
   "display_name": "Python 3",
   "language": "python"
  }
 },
 "nbformat": 4,
 "nbformat_minor": 2,
 "cells": [
  {
   "cell_type": "code",
   "execution_count": 1,
   "metadata": {},
   "outputs": [],
   "source": [
    "from selenium import webdriver\n",
    "from selenium.webdriver.common.keys import Keys\n",
    "from selenium.webdriver.chrome.options import Options\n",
    "from selenium.webdriver.common.action_chains import ActionChains\n",
    "import time, random, os, urllib3, csv, json, datetime\n",
    "import pyperclip\n",
    "\n",
    "# site url\n",
    "naver_login_url = \"https://nid.naver.com/nidlogin.login\"\n",
    "naver_url = 'https://www.naver.com/'\n",
    "\n",
    "# file path\n",
    "log_path = './log/log.csv'\n",
    "config_path = './config/config.json'\n",
    "\n",
    "## read config json file \n",
    "try : \n",
    "    with open(config_path, 'r') as f: \n",
    "        config = json.load(f) \n",
    "except : \n",
    "    print('Check config.json path : ./config/config.json')\n",
    "\n",
    "# User info\n",
    "userid = config['USERINFO'][\"USERNAME\"]\n",
    "userpw = config['USERINFO'][\"PASSWORD\"]\n",
    "target_url = config['USERINFO'][\"URL\"]\n",
    "\n",
    "# now time\n",
    "now_time = str(datetime.datetime.now())\n",
    "\n",
    "options = webdriver.ChromeOptions()\n",
    "# options.add_argument('headless')\n",
    "options.add_argument('window-size=1920x1080')\n",
    "options.add_argument('no-sandbox')\n",
    "options.add_argument('disable-dev-shm-usage')\n",
    "options.add_argument(\"--disable-gpu\")\n",
    "options.add_argument(\"user-agent=Mozilla/5.0 (Macintosh; Intel Mac OS X 10_12_6) AppleWebKit/537.36 (KHTML, like Gecko) Chrome/87.0.4280.141 Safari/537.36\")\n",
    "options.add_argument(\"lang=ko_KR\") # 한국어!\n",
    "driver = webdriver.Chrome('./config/chromedriver', chrome_options=options)\n"
   ]
  },
  {
   "cell_type": "code",
   "execution_count": 3,
   "metadata": {},
   "outputs": [],
   "source": [
    "def naver_login_2(id, pw) :\n",
    "    driver.get(naver_login_url)\n",
    "    driver.implicitly_wait(10)\n",
    "    time.sleep(random.uniform(1,2))\n",
    "    \n",
    "    driver.execute_script(\"document.getElementsByName('id')[0].value = \\'\" + id + \"\\'\")\n",
    "    time.sleep(random.uniform(1,2))\n",
    "    driver.execute_script(\"document.getElementsByName('pw')[0].value=\\'\" + pw + \"\\'\")\n",
    "    time.sleep(random.uniform(1,2))\n",
    "    driver.find_element_by_css_selector('.btn_global').click()\n",
    "    time.sleep(random.uniform(1,2))\n",
    "\n",
    "    naver_home = driver.current_url # 현재 주소 가져오기\n",
    "    driver.implicitly_wait(10)\n",
    "    \n",
    "    if naver_home == naver_url :         \n",
    "        print(now_time,'login_complete')\n",
    "    else :\n",
    "        print(now_time,'login_failed')\n",
    "        driver.quit()   \n"
   ]
  },
  {
   "cell_type": "code",
   "execution_count": 4,
   "metadata": {},
   "outputs": [
    {
     "output_type": "stream",
     "name": "stdout",
     "text": [
      "2021-01-12 15:31:59.541256 login_complete\n"
     ]
    }
   ],
   "source": [
    "naver_login_2(userid, userpw)"
   ]
  },
  {
   "cell_type": "code",
   "execution_count": 2,
   "metadata": {},
   "outputs": [
    {
     "output_type": "stream",
     "name": "stdout",
     "text": [
      "2021-01-12 14:49:07.440885 login_complete\n"
     ]
    }
   ],
   "source": [
    "# 클립보드에 input을 복사한 뒤 해당 내용을 actionChain을 이용해 로그인 폼에 붙여넣기\n",
    "def copy_input(xpath, input):\n",
    "    pyperclip.copy(input)\n",
    "    driver.find_element_by_xpath(xpath).click()\n",
    "    # ActionChains(driver).key_down(Keys.CONTROL).send_keys('v').key_up(Keys.CONTROL).perform() # win linux\n",
    "    ActionChains(driver).key_down(Keys.COMMAND).send_keys('v').key_up(Keys.COMMAND).perform() # mac\n",
    "    time.sleep(random.uniform(0,3))\n",
    "\n",
    "def naver_log_in(id, pw) :\n",
    "    driver.get(naver_login_url)\n",
    "    driver.implicitly_wait(10)\n",
    "    time.sleep(random.uniform(1,2))\n",
    "    \n",
    "    copy_input('//*[@id=\"id\"]', id)\n",
    "    time.sleep(random.uniform(1,2))\n",
    "    \n",
    "    copy_input('//*[@id=\"pw\"]', pw)\n",
    "    time.sleep(random.uniform(1,2))\n",
    "\n",
    "    driver.find_element_by_xpath('//*[@id=\"frmNIDLogin\"]/fieldset/input').click()\n",
    "    time.sleep(3)\n",
    "\n",
    "    naver_home = driver.current_url # 현재 주소 가져오기\n",
    "    driver.implicitly_wait(10)\n",
    "    \n",
    "    if naver_home == naver_url :         \n",
    "        print(now_time,'login_complete')\n",
    "    else :\n",
    "        print(now_time,'login_failed')\n",
    "        driver.quit()   \n",
    "\n",
    "\n",
    "# login \n",
    "try : \n",
    "    naver_log_in(userid, userpw) \n",
    "except : \n",
    "    print('Login fail : EXIT')\n"
   ]
  },
  {
   "cell_type": "code",
   "execution_count": 3,
   "metadata": {},
   "outputs": [],
   "source": [
    "today_url = 'https://m.cafe.naver.com/ca-fe/web/cafes/16105095/articles/11733?fromList=true&menuId=921'\n",
    "driver.get(today_url)\n",
    "driver.implicitly_wait(10)\n",
    "time.sleep(random.uniform(1,3))"
   ]
  },
  {
   "cell_type": "code",
   "execution_count": 4,
   "metadata": {},
   "outputs": [],
   "source": [
    "from bs4 import BeautifulSoup as bs \n",
    "import urllib.request\n",
    "\n",
    "soup = bs(driver.page_source, 'html.parser')"
   ]
  },
  {
   "cell_type": "code",
   "execution_count": 7,
   "metadata": {
    "tags": []
   },
   "outputs": [
    {
     "output_type": "stream",
     "name": "stdout",
     "text": [
      "11월6일 오늘부터 유류세 15% 인하\n        \n"
     ]
    }
   ],
   "source": [
    "title = soup.select('#ct > div:nth-child(1) > div > h2')[0].get_text() \n",
    "print(title)\n"
   ]
  },
  {
   "cell_type": "code",
   "execution_count": 31,
   "metadata": {},
   "outputs": [
    {
     "output_type": "stream",
     "name": "stdout",
     "text": [
      "[<p><br/>11월6일 오늘부터 유류세 15% 인하<br/>#오늘소식 #오소 #뉴스요약 #뉴스정리 #경제시사소식 #기업증권소식 #부동산소식 #진짜뉴스<br/>#오늘소식카페 </p>, <p><br/>#오늘소식카스 </p>, <p><br/>#오늘소식플친 </p>, <p><br/><br/>시사/경제<br/>- 여야, 탄력근로제 보완 입법. 광주형 일자리 정착. 아동수당법 개정. 선거연령 확대 등 12개 민생현안 합의<br/>- 문대통령, 탈원전 에너지 전환 정책 기조 유지. 김정은 서울 답방 현재 진행형<br/>- 정부, 자영업자 신용평가제 도입 및 업종별 대출비중 관리 도입. 자영업자 대출 연내 600조원 돌파 전망. 상용근로자의 1.4배 수준<br/>- 노란우산공제, 10년만에 자산규모 9.3조원 집계. 자영업자수 증가 원인<br/>- 남북 군사당국, 9.19군사합의서 한강하구 민간선박 자유항행 보장 합의. 야간조업 활동 기대<br/>- 미국, 하원의원 민주당/공화당 지지도 격차 급감. 지난 8월 14%서 현재 7%<br/>- 미국, 이란산 원유 제재 예외 국가에 8개국 지정. 한국/중국/일본/인도/터키/그리스/대만/이탈리아. 6개월 한시적 및 수입 감축 전제<br/>- 폼페이오, 김영철 이번 주말 뉴욕 회담 전망. 비핵화/미북정상회담 논의<br/>- 문대통령, 13일 싱가포르 출국. APEC 정상회의 참석. 경제협력/한반도비핵화 논의<br/>- 블룸버그, 세계경제 내년 동반하향세 분석. 미국경기 고점. 중국성장세 둔화 유럽경기 부진<br/>- 일본기업, G2무역분쟁 직간접 영향에 순이익 증가율 감소세. 7분기 연속 두 자릿수 증가율 한 자릿수로 감소<br/>- 일본, 의약품 원격조제(판매) 2020년부터 전국 확대. 온라인 원격상담/처방전발급 후 약국서 우편 배달<br/>- 중국, 10조원 430km 규모 선양~백두산 고속철도 건설계획 공개. 2023년 완공 목표<br/>- 일본, 변호사/학자 100여명. 강제징용 청구권 소멸 관련 자국 정부 대응 비판 공동성명<br/>- 시진핑, 상하이 국가회의전람센터서 기조연설. 15년간 세계 각국서 40조달러 수입 <br/>- 1020대 청년, 창업비중 사상 첫 10% 돌파. 청년 취업난 반영<br/>- 실업급여, 올해 33% 급증 6.5조원 소진 전망. 고용기금 고갈 및 적자전환 시점 빨라질 듯<br/>- 복지부, 내년 장기요양보험료 0.83% 인상. 직장인 부담 8300원서 1만원 전망<br/>- 경기도, 내년 복지예산 9조원 편성. 전체 예산 24조원의 39%. <br/>- 정부, 유류세 15% 오늘부터 6개월 한시적 인하. 리터당 휘발유123원 경우87원 LPG30원 인하<br/>- 수협, 구노량진수산시장 단전/단수조치 강행. 수협/상인 갈등 격화<br/>- 정부, 경제자유구역 신사업/서비스업 중심 4차산업혁명 개편. 규제샌드박스 적용<br/>- 한국당, 남북협력기금 예산심사 거부. 사업비 1조원서 6500억원 감액 요구<br/>- 정부, 공공기관 채용비리 3개월간 전수조사 실시. 전국 1453곳 대상<br/>- 정부, 대체복무 36개월 법안. 인권침해 논란에 발표 연기. 찬반 논란 가열<br/>- 한국, 항생제 사용량 OECD 평균 1.6배 수준. 항생제 의존도 증가세<br/>- 벤츠, 10월 6300여대 판매. 수입차 시장 1위 탈환. 2위 BMW 2131대. 3위 렉서스 1980대 4위 도요타 1341대<br/>- 추천도서: 트렌트코리아2019, 카트읽는남자. 토닥토닥 마흔이 마흔에게<br/><br/>기업/증권<br/>- 코스피, 미국 중간선거 불확실성 0.91% 하락. 코스닥, 바이오주 급등에 0.19% 상승<br/>- 뉴욕, 한국계 은행 송금중계/대출 업무 줄줄이 중단. 대북제재 준수 경고 등 금융당국 감시 강화 영향 <br/>- 현대건설/대림산업/SK건설 등 건설업계, 미국 대 이란제재에 신규투자 등 이란시장 진입 불가<br/>- 현대로템, 이란제재에 지난해 말 9293억원 디젤동차 수주 사업 포기 전망<br/>- LIG넥스원, 국방과학연구소서 지체상금 666억원 부과. 성능 등 요구조건 변경에 개발 지연. 연간 영업익 15배 규모<br/>- 유한양행, 상한가. 글로벌 제약사 얀센에 폐암 신약물질 레이저티닙 기술수출 계약. 임상/허가/상업화 성공 시 1.4조원 수령 예상<br/>- 제약바이오업계, 기술수출 전성기. 올해 기술수출 7건. 2.7조원 계약. 2015년 한미약품 이후 기술수출 성공사례 확산<br/>- 메리츠화재, 치아보험 텔레마케팅채널 판매중단. 손해율 관리 실패<br/>- 삼성화재, 펫보험 가세. 반려견 의료비 연간 최대 1900만원 애니펫 보험 출시<br/>- 포스코, 100대과제 발표. 2030년 매출 100조원 목표. 철강/2차전지부문서 각각 40% 20% 비중<br/>- 제주항공, 10개월만에 탑승객 1천만명 돌파. 일본노선1위 동남아노선2위 중화권3위 <br/>- 기아차, 삼성전자와 맞춤형 스마트폰앱 출시. AI빅스비 활용 자동차 관리앱<br/>- LG전자, 이마트와 자율주행 쇼핑카트 공동개발. <br/>- 대우조선해양, 노르웨이서 원유운반선 9천만달러 3척 수주. 총 3064억원 규모<br/>- 현대글로비스, 물류센터에 자동화 로봇 시스템 도입. 스마트물류 가속화<br/>- SKT, 연말까지 티맵 택시 이용시 10% 할인. 카카오택시 추격. 모빌리티 시장 점유율 확보 전략<br/>- 스마트폰시장, 3분기 북미 출하량 11% 감소. 애플 출하량/점유율 증가. 점유율 35% 1위 기록<br/>- 지누스, 북미 매트리스 온라인 1위. 국내 오픈마켓/소셜커머스 정식 출시<br/>- 인바디, 무수은 혈압계 등 신제품 3종 출시. 세계시장 진출 추진<br/>- GC녹십자, 차세대 대상포진 백신 미국서 개발 추진. 임상 1상 계획 승인<br/>- 메리츠종금증권, 3분기 영업이익 1412억원. 어닝서프라이즈 달성<br/>- 아시아나항공, 4천억원 규모 자산유동화증권 발행 성공. 올들어 1.4조원 유동성 확보. 신용등급 방어 기대<br/>- 케이뱅크, 내년 1분기 5천억원 유상증자 추진. 주담대출시 예정. KT서 지분 34% 확대 전망<br/>- 신한은행, 부동산 앱 다방과 업무협약 체결. 금융정보/부동산데이터 플랫폼 협업<br/>- 효성첨단소재, 베트남에 1700억원 규모 투자. 타이어코드 사업 경쟁력 강화 전략. 시장 점유율확대 위해 신규 생산법인 설립(현재 점유율 40%)<br/>- 넥슨, 3분기 매출/영업익 소폭 증가. 던전앤파이터 중국 시장 호조. 넷마블/엔씨 실적 부진<br/>- 동화기업, 그린팩토리서 폐목재로 우드칩 연간 20만톤 생산. 연간 555억원 소각비용 및 원목수입대체효과 800억원 등 2500억원 비용절감<br/>- 10월 시가총액, 낙폭 상위 업종. 생활용품&gt;제약바이오&gt;의료&gt;부동산&gt;자본재&gt;증권&gt;자동차 순<br/>- GS건설, 3분기 어닝서프라이즈. 주택/해외 수주 사업 호조. 4분기 10조원 규모 베트남 프로젝트착공 등 호조세 지속 전망<br/><br/>부동산<br/>- 헬리오시티, 입주 목전 전셋값 담합 논란. 입주민카페 압력 행사 및 집주인 입주 등 영향<br/>- 서울시, 종각/광화문/시청/동대문 총 길이 4.5km ㄷ자형 거대 지하도시 조성 가속화. 기본계획 용역 발주. 2022년 준공 계획<br/>- 오피스텔, 913규제에 풍선효과. 소액투자/분양권 전매 가능에 청약 경쟁률 상승. 삼송역 스칸센 경쟁률 70대1<br/>- 자양아파트, 강북 최초 재건축 초과이익환수금 통보. 조합원 1인당 부담금 320만원. 총 3.6억원<br/>- 국토부, 수도권 30만가구 후보지역 땅주인 반발에 주민설명회 생략 사례 잇따라 발생. 공공택지 조성 난항<br/>- 압구정신현대아파트, 정부 규제 강화에 재건축 장기전 돌입. 예산 61억원 공용배관 교체<br/>- 성남시, 분당신도시 매화마을2단지 리모델링 시범단지 선정. 기존 5개 단지(한솔마을주공5/느티마을3.4/무지개마을4/매화마을1) 포함 총6개 단지 5242가구 리모델링 추진<br/>- 서울아파트, 전세가율 60.3% 기록. 5년전 수준으로 회귀. 집값 단기 급등에 갭투자 끝물<br/>- 금호21구역, 연면적 6.5만m2 재개발 구역지정 추진. 2013년 해제 후 사업 재추진<br/>- 인천검단새도시, 청약시장 연속 흥행. 호반베르디움 이어 유승한내들 1순위 마감<br/>- 부동산허위매물, 8926건 기록. 1개월새 58% 급감. 허위매물 신고 건수 증가 원인. 청라/송도 등 수도권 비규제 지역 신고 건수 급증<br/>- 인천시, 그린 에코시티 863억원 투입. 도심 곳곳 숲/쉼터/녹지/둘레길 등 조성 추진<br/>- 서울시, 신혼부부 임차보증금 지원사업 대상/기간 확대. 최장 8년 최대 2억원 범위 내 90%까지 저리 대출<br/>- 서울아파트, 전월세 거래량 4년만에 최고치 기록. 집값 급등에 실수요자 전세 전환. 집값 하락 기대 심리<br/>- 홍콩, 주택시장 조정국면 진입. 금리인상 및 G2무역전쟁 등에 경기 하강 국면 영향<br/>- HUG, 미분양관리지역 대상 전세보증금 반환보증 특례보증제도 도입. 가입신청 기존 만료 12개월서 6개월로 완화<br/>- 서울아파트, 전체 주택 준공실적 대비 준공비중 41%. 뉴타운해제/재건축규제 등 정부 규제정책 영향<br/>- 대기업총수일가, 서울 중소형 빌딩 매각 행렬. 총수일가 규제 및 부동산 가격 급등 여파<br/>- 천안시, 코리아텍과 KTX천안아산역세권 산학연센터 건립 추진. 부지매입에 792억원 투입<br/>- 수원시/용인시, 토지 맞교환 중재안 찬성. 초등학생 원거리 통학문제 해결 기대<br/>- 롯데백화점, 신세계 인천점 인수. 백화점/쇼핑몰/영화관 등 복합문화공간 롯데타운 계획. 내년 1월초 영업 목표<br/><br/>&lt;명언&gt;<br/>자신의 일을<br/>재미없어 하는 사람 중에<br/>성공하는 사람은<br/>찾아보기 힘들다<br/><br/>- 카네기<br/><br/><br/></p>]\n"
     ]
    }
   ],
   "source": [
    "content_tags = soup.select('#postContent > div')[0].select('p') \n",
    "print(content_tags)\n"
   ]
  },
  {
   "cell_type": "code",
   "execution_count": 37,
   "metadata": {},
   "outputs": [
    {
     "output_type": "error",
     "ename": "AttributeError",
     "evalue": "ResultSet object has no attribute 'find_all'. You're probably treating a list of elements like a single element. Did you call find_all() when you meant to call find()?",
     "traceback": [
      "\u001b[0;31m---------------------------------------------------------------------------\u001b[0m",
      "\u001b[0;31mAttributeError\u001b[0m                            Traceback (most recent call last)",
      "\u001b[0;32m<ipython-input-37-0b1c77044984>\u001b[0m in \u001b[0;36m<module>\u001b[0;34m\u001b[0m\n\u001b[0;32m----> 1\u001b[0;31m \u001b[0msisa\u001b[0m \u001b[0;34m=\u001b[0m \u001b[0mcontent_tags\u001b[0m\u001b[0;34m.\u001b[0m\u001b[0mfind_all\u001b[0m\u001b[0;34m(\u001b[0m\u001b[0;34m'시사'\u001b[0m\u001b[0;34m)\u001b[0m\u001b[0;34m\u001b[0m\u001b[0;34m\u001b[0m\u001b[0m\n\u001b[0m\u001b[1;32m      2\u001b[0m \u001b[0mprint\u001b[0m\u001b[0;34m(\u001b[0m\u001b[0msisa\u001b[0m\u001b[0;34m)\u001b[0m\u001b[0;34m\u001b[0m\u001b[0;34m\u001b[0m\u001b[0m\n",
      "\u001b[0;32m~/opt/anaconda3/envs/py/lib/python3.7/site-packages/bs4/element.py\u001b[0m in \u001b[0;36m__getattr__\u001b[0;34m(self, key)\u001b[0m\n\u001b[1;32m   2172\u001b[0m         \u001b[0;34m\"\"\"Raise a helpful exception to explain a common code fix.\"\"\"\u001b[0m\u001b[0;34m\u001b[0m\u001b[0;34m\u001b[0m\u001b[0m\n\u001b[1;32m   2173\u001b[0m         raise AttributeError(\n\u001b[0;32m-> 2174\u001b[0;31m             \u001b[0;34m\"ResultSet object has no attribute '%s'. You're probably treating a list of elements like a single element. Did you call find_all() when you meant to call find()?\"\u001b[0m \u001b[0;34m%\u001b[0m \u001b[0mkey\u001b[0m\u001b[0;34m\u001b[0m\u001b[0;34m\u001b[0m\u001b[0m\n\u001b[0m\u001b[1;32m   2175\u001b[0m         )\n",
      "\u001b[0;31mAttributeError\u001b[0m: ResultSet object has no attribute 'find_all'. You're probably treating a list of elements like a single element. Did you call find_all() when you meant to call find()?"
     ]
    }
   ],
   "source": [
    "sisa = soup.find_all('div', class_='')\n",
    "print(sisa)"
   ]
  },
  {
   "cell_type": "code",
   "execution_count": 30,
   "metadata": {},
   "outputs": [
    {
     "output_type": "stream",
     "name": "stdout",
     "text": [
      "[<span class=\"date font_l\"><span class=\"blind\">작성일</span>2018.11.06. 07:17</span>]\n"
     ]
    }
   ],
   "source": [
    "dates = soup.select('span.date.font_l')\n",
    "# dates = soup.select('blind')\n",
    "# aa = content_tags.find('<br/>')\n",
    "print(dates)"
   ]
  },
  {
   "cell_type": "code",
   "execution_count": null,
   "metadata": {},
   "outputs": [],
   "source": []
  },
  {
   "cell_type": "code",
   "execution_count": 7,
   "metadata": {},
   "outputs": [],
   "source": [
    "from bs4 import BeautifulSoup as bs \n",
    "import urllib.request\n",
    "\n",
    "req = urllib.request.Request(today_url)\n",
    "html = urllib.request.urlopen(req).read()\n",
    "soup = bs(html, 'html.parser')\n",
    "time.sleep(1)"
   ]
  },
  {
   "cell_type": "code",
   "execution_count": 8,
   "metadata": {},
   "outputs": [
    {
     "output_type": "stream",
     "name": "stdout",
     "text": [
      "<!DOCTYPE html>\n<html lang=\"ko\"><head><title>네이버 카페</title><meta charset=\"utf-8\"/><meta content=\"width=device-width,initial-scale=1,maximum-scale=1,minimum-scale=1,user-scalable=no,target-densitydpi=medium-dpi,viewport-fit=cover\" name=\"viewport\"/><meta content=\"noindex, nofollow\" name=\"robots\"/><meta content=\"always\" name=\"referrer\"/><link href=\"https://ca-fe.pstatic.net/web-mobile/favicon.ico\" rel=\"shortcut icon\" type=\"image/x-icon\"/><link href=\"https://cafe.pstatic.net/mobile/img/favicon2016/iOS7_120X120_iphone.png\" rel=\"apple-touch-icon-precomposed\" sizes=\"120x120\"/><link href=\"https://cafe.pstatic.net/mobile/img/favicon2016/iOS7_152X152_ipad_retina.png\" rel=\"apple-touch-icon-precomposed\" sizes=\"152x152\"/><link href=\"https://cafe.pstatic.net/mobile/img/favicon2016/iOS9_167X167_ipadpro.png\" rel=\"apple-touch-icon-precomposed\" sizes=\"167x167\"/><link href=\"https://cafe.pstatic.net/mobile/img/favicon2016/iOS8_180X180_iphone6plus.png\" rel=\"apple-touch-icon-precomposed\" sizes=\"180x180\"/><link href=\"https://cafe.pstatic.net/mobile/img/favicon2016/android_192x192_xxxhpdi.png\" rel=\"apple-touch-icon-precomposed\" sizes=\"192x192\"/><link href=\"https://cafe.pstatic.net/mobile/img/favicon2016/android_96x96_xhdpi.png\" rel=\"apple-touch-icon-precomposed\"/><link href=\"https://cafe.pstatic.net/mobile/img/favicon2016/android_144x144_xxhpdi.png\" rel=\"apple-touch-icon-precomposed\" sizes=\"144x144\"/><script src=\"https://ca-fe.pstatic.net/web-mobile/static/web-crash-logger-1.0.2.min.js\"></script><script>document.domain = \"naver.com\";</script><script>var traceQueue = [];\n      var maxSize = 100;\n\n      function trace(log) {\n        while (traceQueue.length >= maxSize) {\n          traceQueue.shift();\n        }\n        traceQueue.push(log);\n      }</script><script>var logQueue = [];\n      window.cafe && window.cafe.crashLogger && window.cafe.crashLogger.init({\n        host: \"nelo2-col.navercorp.com/_store\",\n        projectName: \"web-mobile\",\n        projectVersion: \"-\",\n        browser: navigator.userAgent,\n        uuid: (localStorage && localStorage.getItem(\"CAFE_UUID\")),\n      });\n\n      window.addEventListener(\"error\", function(e) {\n        var sources = [\"SCRIPT\", \"LINK\"];\n        var el = e.target;\n        var url = \"\";\n        if (el) {\n          url = el.tagName == \"LINK\" ? el.href : el.src;\n        }\n        if(sources.indexOf(el.tagName) != -1) {\n          logQueue.push(url);\n        } else if (el.tagName !== \"IMG\") {\n          const message = e.error || e.message || e.name || e.target;\n          console.error(\"[simple-crash-logger] runtime error:\" + message + \"\\n filename:\" + e.filename + \"\\n url:\" + url + \"\\n e:\" + e + \"\\n e.error:\" + e.error + \"\\n e.message:\" + e.message);\n          window.cafe.crashLogger.captureMessage(\"[simple-crash-logger] runtime error:\" + message + \"\\n filename:\" + e.filename + \"\\n url:\" + url + \"\\n e:\" + e + \"\\n e.error:\" + e.error + \"\\n e.message:\" + e.message + \"\\n trace:\" + window.traceQueue.join(\"\\n\") + \"\\n errorResources:\" + window.logQueue.join(\"\\n\"));\n        }\n        return true;\n      }, true);\n\n      window.addEventListener(\"DOMContentLoaded\", function(){\n        if (logQueue.length > 0) {\n          for (var i in logQueue) {\n            console.error(\"[simple-crash-logger] static resource load fail:\" + logQueue[i]);\n            window.cafe.crashLogger.captureMessage(\"[simple-crash-logger] static resource load fail:\" + logQueue[i]);\n          }\n          setTimeout(function () {\n            if (!document.querySelector(\"#app\").hasChildNodes()) {\n              document.querySelector(\".EmptyMessageBox\").style.display = \"flex\";\n            }\n          }, 3000);\n        }\n      });</script><script src=\"https://ca-fe.pstatic.net/web-mobile/static/cafe.inapp.a755136c.js\"></script><style>/* base.scss */\n    body, p,\n    h1, h2, h3, h4, h5, h6,\n    ul, ol, li,\n    dl, dt, dd,\n    table, th, td,\n    form, fieldset, legend, input, textarea, button, select {\n      margin: 0;\n      padding: 0;\n    }\n    body,\n    h1, h2, h3, h4, h5, h6,\n    input,\n    textarea,\n    select,\n    button,\n    table {\n      font-size: 14px;\n      line-height: 1.25em;\n      font-family: Helvetica, \"Apple SD Gothic Neo\", sans-serif;\n    }\n    textarea {\n      -webkit-appearance: none;\n    }\n    body {\n      position: relative;\n      color: #000;\n      background-color: #f5f6f8;\n      -webkit-text-size-adjust: none;\n      padding-bottom: constant(safe-area-inset-bottom);\n      padding-bottom: env(safe-area-inset-bottom);\n    }\n    em,\n    address {\n      font-style: normal;\n    }\n    a {\n      color: #000;\n      text-decoration: none;\n    }\n\n    .EmptyMessageBox {\n      display: flex;\n      align-items: center;\n      text-align: center;\n      background-color: #fff;\n      box-sizing: border-box;\n    }\n    .EmptyMessageBox__content {\n      margin: 0 auto;\n      padding: 0 16px;\n    }\n    .EmptyMessageBox__content .message_area {\n      padding: 0 20px;\n    }\n    .EmptyMessageBox__content .ButtonBaseFrame {\n      margin-top: 16px;\n    }\n\n    .EmptyMessageBox--app {\n      flex: 1;\n      min-height: 667px;\n      height: 100vh;\n    }\n    @media all and (min-width: 320px) {\n      .EmptyMessageBox--app {\n        min-height: 568px;\n      }\n    }\n\n    .EmptyMessageText {\n      text-align: center;\n    }\n    .EmptyMessageText--main {\n      font-size: 17px;\n      line-height: 1.29;\n      color: #000;\n    }\n    .EmptyMessageText--main + .EmptyMessageText--sub {\n      margin-top: 8px;\n    }\n    .EmptyMessageText--sub {\n      font-size: 15px;\n      line-height: 1.3;\n      color: #979797;\n    }\n\n    .ButtonBaseFrame {\n      text-align: center;\n    }\n    .ButtonBaseFrame__area {\n      display: inline-block;\n      min-width: 150px;\n      vertical-align: top;\n    }\n    .ButtonBaseFrame .ButtonBase + .ButtonBase {\n      margin-top: 10px;\n    }\n\n    .ButtonBase {\n      display: block;\n      height: 40px;\n      padding: 0 15px;\n      line-height: 40px;\n      box-sizing: border-box;\n      font-size: 15px;\n      border-radius: 6px;\n      text-align: center;\n      vertical-align: top;\n    }\n    .ButtonBase--green {\n      background: rgba(3, 199, 90, 0.12);\n      color: #009f47;\n    }\n    .ButtonBase--gray {\n      background: #f5f6f8;\n      color: #676767;\n    }\n\n    .IndexArticleLoading {\n      min-height: 667px;\n      height: 100%;\n      height: 100vh;\n    }\n    @media all and (min-width: 320px) {\n      .IndexArticleLoading {\n        min-height: 568px;\n      }\n    }\n    .IndexArticleLoading .ispinner {\n      position: absolute;\n      left: 0;\n      right: 0;\n      top: 0;\n      bottom: 0;\n      width: 20px;\n      height: 20px;\n      margin: auto;\n    }\n    .IndexArticleLoading .ispinner .ispinner-blade {\n      position: absolute;\n      left: 44.5%;\n      top: 37%;\n      width: 10%;\n      height: 25%;\n      border-radius: 50%/20%;\n      -webkit-animation: ispinner-fade 1s linear infinite;\n      animation: ispinner-fade 1s linear infinite;\n      -webkit-animation-play-state: paused;\n      animation-play-state: paused;\n    }\n    .IndexArticleLoading .ispinner .ispinner-blade:nth-child(1) {\n      -webkit-animation-delay: -1.66667s;\n      animation-delay: -1.66667s;\n      -webkit-transform: rotate(90deg) translate(0, -150%);\n      transform: rotate(90deg) translate(0, -150%);\n    }\n    .IndexArticleLoading .ispinner .ispinner-blade:nth-child(2) {\n      -webkit-animation-delay: -1.58334s;\n      animation-delay: -1.58334s;\n      -webkit-transform: rotate(180deg) translate(0, -150%);\n      transform: rotate(180deg) translate(0, -150%);\n    }\n    .IndexArticleLoading .ispinner .ispinner-blade:nth-child(3) {\n      -webkit-animation-delay: -1.50001s;\n      animation-delay: -1.50001s;\n      -webkit-transform: rotate(270deg) translate(0, -150%);\n      transform: rotate(270deg) translate(0, -150%);\n    }\n    .IndexArticleLoading .ispinner .ispinner-blade:nth-child(4) {\n      -webkit-animation-delay: -1.41668s;\n      animation-delay: -1.41668s;\n      -webkit-transform: rotate(360deg) translate(0, -150%);\n      transform: rotate(360deg) translate(0, -150%);\n    }\n    .IndexArticleLoading .ispinner.animating .ispinner-blade {\n      -webkit-animation-play-state: running;\n      animation-play-state: running;\n    }\n    .IndexArticleLoading .ispinner.gray .ispinner-blade {\n      background-color: #8c8c8c;\n    }\n    @-webkit-keyframes ispinner-fade {\n      0% {\n        opacity: 0.85;\n      }\n      50% {\n        opacity: 0.25;\n      }\n      100% {\n        opacity: 0.25;\n      }\n    }\n    @keyframes ispinner-fade {\n      0% {\n        opacity: 0.85;\n      }\n      50% {\n        opacity: 0.25;\n      }\n      100% {\n        opacity: 0.25;\n      }\n    }</style><link crossorigin=\"anonymous\" href=\"https://ca-fe.pstatic.net/web-mobile/css/app.e60a3fe0ef69.css\" rel=\"stylesheet\"/></head><body><noscript><strong>We're sorry but mobile doesn't work properly without JavaScript enabled. Please enable it to continue.</strong></noscript><div class=\"IndexArticleLoading\" style=\"display: none\"><span class=\"blind\">로딩중입니다.</span><div class=\"ispinner gray animating\"><div class=\"ispinner-blade\"></div><div class=\"ispinner-blade\"></div><div class=\"ispinner-blade\"></div><div class=\"ispinner-blade\"></div></div></div><div class=\"\"><div class=\"EmptyMessageBox EmptyMessageBox--app\" style=\"display: none\"><div class=\"EmptyMessageBox__content\"><div class=\"message_area\"><p class=\"EmptyMessageText EmptyMessageText--main\">네트워크 문제로 연결되지 않습니다.</p><p class=\"EmptyMessageText EmptyMessageText--sub\">잠시 후에 다시 시도해주세요.</p></div><div class=\"ButtonBaseFrame\"><div class=\"ButtonBaseFrame__area\"><a class=\"ButtonBase ButtonBase--green\" href=\"#\" onclick=\"location.reload(); return false;\" role=\"button\"><span class=\"ButtonBase__txt\">다시 시도</span></a></div></div></div></div></div><div id=\"app\"></div><script>var linkNodes = document.querySelectorAll(\"link\");\n  Array.prototype.forEach.call(linkNodes, function(linkNode) {\n    linkNode.onload = function(e) {\n      trace(\"loaded link \" + e.target.href);\n    };\n  });\n\n  var scriptNodes = document.querySelectorAll(\"script\");\n  Array.prototype.forEach.call(scriptNodes, function(scriptNode) {\n    scriptNode.onload = function(e) {\n      trace(\"loaded script \" + e.target.src);\n    };\n  });</script><script crossorigin=\"anonymous\" src=\"https://ca-fe.pstatic.net/web-mobile/js/chunk-vendors.15228813917d.js\"></script><script crossorigin=\"anonymous\" src=\"https://ca-fe.pstatic.net/web-mobile/js/app.6b960dcc4d70.js\"></script></body><script src=\"https://ca-fe.pstatic.net/web-mobile/static/naverStatLogger.js?v=4.13.0\"></script><script src=\"https://ca-fe.pstatic.net/web-mobile/static/phup.js\"></script></html>\n"
     ]
    }
   ],
   "source": [
    "print(soup)"
   ]
  },
  {
   "cell_type": "code",
   "execution_count": 9,
   "metadata": {},
   "outputs": [],
   "source": [
    "imsi = driver.find_element_by_xpath('//*[@id=\"postContent\"]/div')"
   ]
  },
  {
   "cell_type": "code",
   "execution_count": 10,
   "metadata": {},
   "outputs": [
    {
     "output_type": "stream",
     "name": "stdout",
     "text": [
      "<selenium.webdriver.remote.webelement.WebElement (session=\"81d0bc7618011cd818e60bf5c15b2580\", element=\"d0c0126f-6b22-4087-a6ae-9500f8887c44\")>\n"
     ]
    }
   ],
   "source": [
    "print(imsi)"
   ]
  },
  {
   "cell_type": "code",
   "execution_count": 11,
   "metadata": {},
   "outputs": [
    {
     "output_type": "stream",
     "name": "stdout",
     "text": [
      "1\n1\n1\n1\n"
     ]
    }
   ],
   "source": [
    "for i in range(1, 10) : \n",
    "    if i < 5 : \n",
    "        print('1')\n",
    "    else :\n",
    "from selenium import webdriver\n",
    "from selenium.webdriver.common.keys import Keys\n",
    "from selenium.webdriver.chrome.options import Options\n",
    "from selenium.webdriver.common.action_chains import ActionChains\n",
    "import time, random, os, urllib3, csv, json, datetime\n",
    "import pyperclip\n",
    "\n",
    "driver = webdriver.Chrome(\"./config/chromedriver\") \n",
    "driver.get(\"https://nid.naver.com/nidlogin.login\")\n",
    "time.sleep(2)\n",
    "id = \"tlgudlove111\"\n",
    "pw = \"92ghlrhks\"\n",
    "\n",
    "        break"
   ]
  },
  {
   "cell_type": "code",
   "execution_count": 1,
   "metadata": {},
   "outputs": [],
   "source": [
    "\n"
   ]
  }
 ]
}